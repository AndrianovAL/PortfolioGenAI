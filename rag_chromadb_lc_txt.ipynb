{
 "cells": [
  {
   "cell_type": "markdown",
   "id": "9f29bb72",
   "metadata": {},
   "source": [
    "https://www.youtube.com/watch?v=F0GQ0l2NfHA\n",
    "7h55"
   ]
  },
  {
   "cell_type": "code",
   "execution_count": null,
   "id": "37aca8fe",
   "metadata": {},
   "outputs": [],
   "source": []
  }
 ],
 "metadata": {
  "language_info": {
   "name": "python"
  }
 },
 "nbformat": 4,
 "nbformat_minor": 5
}
