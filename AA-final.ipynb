{
 "cells": [
  {
   "cell_type": "code",
   "execution_count": 12,
   "id": "2fa66dff",
   "metadata": {},
   "outputs": [],
   "source": [
    "import sys, os\n",
    "sys.path.append(os.path.abspath('src'))\n",
    "\n",
    "from pgai.vector_db_clients import FAISSClient#, ChromaClient\n",
    "from pgai import langchain_helper"
   ]
  },
  {
   "cell_type": "markdown",
   "id": "29c1b596",
   "metadata": {},
   "source": [
    "# Intro"
   ]
  },
  {
   "cell_type": "markdown",
   "id": "f8d4cb8e",
   "metadata": {},
   "source": [
    "In this example, I am using LangChain to build a simple LLM-powered assistant. I will focus on using:\n",
    "1. Google Gemini\n",
    "2. OpenAI gpt-4o-mini"
   ]
  },
  {
   "cell_type": "markdown",
   "id": "faec980a",
   "metadata": {},
   "source": [
    "# Problem Setting"
   ]
  },
  {
   "cell_type": "markdown",
   "id": "48382bba",
   "metadata": {},
   "source": [
    "I'll take a `new_report.txt`, `metrics.csv`, and `training_examples.csv` and use LangChain to:\n",
    "1. Score the new report\n",
    "2. Extract from the new_report 3 pieces of supporting evidence for this Score"
   ]
  },
  {
   "cell_type": "markdown",
   "id": "826ea039",
   "metadata": {},
   "source": [
    "# Initialize LLM"
   ]
  },
  {
   "cell_type": "markdown",
   "id": "576be773",
   "metadata": {},
   "source": [
    "First need to initialize an LLM. I'll use _Google Gemini_ or _OpenAI 'gpt-4.1-nano'_ model. You can get an API key from [OpenAI](https://platform.openai.com/settings/organization/api-keys)."
   ]
  },
  {
   "cell_type": "code",
   "execution_count": 13,
   "id": "594dcaf8",
   "metadata": {},
   "outputs": [
    {
     "name": "stdout",
     "output_type": "stream",
     "text": [
      "✅ GOOGLE_API_KEY loaded successfully (not printing it for security).\n"
     ]
    }
   ],
   "source": [
    "AI_Provider = \"GOOGLE\"\n",
    "# LLM_Provider = \"OPENAI\"\n",
    "\n",
    "llm, llm_structured = langchain_helper.get_llm(AI_Provider)"
   ]
  },
  {
   "cell_type": "markdown",
   "id": "a6108c9b",
   "metadata": {},
   "source": [
    "# Create VectorDB from TXT"
   ]
  },
  {
   "cell_type": "code",
   "execution_count": 14,
   "id": "b5cc5994",
   "metadata": {},
   "outputs": [
    {
     "name": "stdout",
     "output_type": "stream",
     "text": [
      "Report loaded: 2591 characters\n",
      "First 200 characters of the report: Balanced Power of IBM\n",
      "\n",
      "IBM’s latest sustainability report opens with a bold statement: “IBM is committed to achieving net-zero GHG Scope 1 emissions by 2050 through a comprehensive, three-phase decarb...\n",
      "Split into 16 chunks\n",
      "FAISS index has 16 vectors\n"
     ]
    },
    {
     "data": {
      "text/plain": [
       "<pgai.vector_db_clients.faiss_client.FAISSClient at 0x1a2800a5810>"
      ]
     },
     "execution_count": 14,
     "metadata": {},
     "output_type": "execute_result"
    }
   ],
   "source": [
    "db_client = FAISSClient()\n",
    "db_client.from_txt_file(txt_path=\"data/new_report_IBM.txt\")\n",
    "# db = langchain_helper.create_vectordb_from_txt_file(txt_filename=\"new_report_IBM.txt\")\n",
    "# db.save_local(\"data/vector_dbs/faiss_index\")\n",
    "# embeddings = HuggingFaceEmbeddings(model_name=\"sentence-transformers/all-MiniLM-L6-v2\")  # This model is small (~80MB), fast on CPU, good for English # Alternative: ultra-fast memory-light (~45MB): model_name=\"sentence-transformers/paraphrase-MiniLM-L3-v2\" # Alternative: embeddings = OpenAIEmbeddings()\n",
    "# db = FAISS.load_local(\"data/vector_dbs/faiss_index\", embeddings)"
   ]
  },
  {
   "cell_type": "markdown",
   "id": "ce516c88",
   "metadata": {},
   "source": [
    "# Prompt"
   ]
  },
  {
   "cell_type": "code",
   "execution_count": 15,
   "id": "3fecc813",
   "metadata": {},
   "outputs": [],
   "source": [
    "import pandas as pd\n",
    "metrics_filename = 'data/metrics.csv'\n",
    "metrics = pd.read_csv(metrics_filename)\n",
    "# print(metrics.iloc[0][\"MetricDescription\"])\n",
    "# metrics.head()"
   ]
  },
  {
   "cell_type": "code",
   "execution_count": 16,
   "id": "78857215",
   "metadata": {},
   "outputs": [],
   "source": [
    "train_examples_filename = 'data/train_examples.csv'\n",
    "train_examples = pd.read_csv(train_examples_filename)\n",
    "# train_examples.head(1)"
   ]
  },
  {
   "cell_type": "code",
   "execution_count": 17,
   "id": "f6b4c02e",
   "metadata": {},
   "outputs": [],
   "source": [
    "from langchain.prompts import SystemMessagePromptTemplate, HumanMessagePromptTemplate, ChatPromptTemplate\n",
    "\n",
    "# Defining the system prompt (how the AI should act)\n",
    "system_prompt = SystemMessagePromptTemplate.from_template('You are a sustainability consultant tasked to score a company against the provided metric. Score can be: 1, 2, or 3.')\n",
    "\n",
    "# the user prompt is provided by the user, in this case however the only dynamic input is the article\n",
    "user_prompt = HumanMessagePromptTemplate.from_template(\n",
    "    \"\"\"# You need to score the company \"{new_company}\" against the metric and criteria (provided below) and provide 3 reasons for the score by quoting the report.\n",
    "        ## The output should be a JSON object with the following fields (no other explanation or text or fields are allowed):\n",
    "        - Company: the name of the company\n",
    "        - MetricID: MetricID\n",
    "        - Score: the score of the company\n",
    "        - Reason1: first reason for the score\n",
    "        - Reason2: second reason for the score\n",
    "        - Reason3: third reason for the score\n",
    "    \n",
    "    MetricID: {metric_id}\n",
    "    Metric name: {metric_name}\n",
    "    Scoring criteria: {metric_description}\n",
    "\n",
    "    # Below are examples of the scoring applied to 3 companies:\n",
    "    Company 1: {Company_1}\n",
    "    Score: {Score_1}\n",
    "    Reason 1: {Reason1_1}\n",
    "    Reason 2: {Reason2_1}\n",
    "    Reason 3: {Reason3_1}\n",
    "\n",
    "    Company 2: {Company_2}\n",
    "    Score: {Score_2}\n",
    "    Reason 1: {Reason1_2}\n",
    "    Reason 2: {Reason2_2}\n",
    "    Reason 3: {Reason3_2}\n",
    "\n",
    "    Company 3: {Company_3}\n",
    "    Score: {Score_3}\n",
    "    Reason 1: {Reason1_3}\n",
    "    Reason 2: {Reason2_3}\n",
    "    Reason 3: {Reason3_3}\n",
    "    \n",
    "    # The report of the company \"{new_company}\" is:\n",
    "    {new_company_report_chunks_summary}\n",
    "    \"\"\",\n",
    "\n",
    "    input_variables=[\"metric_id\", \"metric_name\", \"metric_description\", \"new_company\",\n",
    "        \"Company_1\", \"Score_1\", \"Reason1_1\", \"Reason2_1\", \"Reason3_1\",\n",
    "        \"Company_2\", \"Score_2\", \"Reason1_2\", \"Reason2_2\", \"Reason3_2\",\n",
    "        \"Company_3\", \"Score_3\", \"Reason1_3\", \"Reason2_3\", \"Reason3_3\", \"new_company_report_chunks_summary\"]\n",
    ")"
   ]
  },
  {
   "cell_type": "markdown",
   "id": "236ba951",
   "metadata": {},
   "source": [
    "Now we can merge the `system` and `user` prompts into a full chat prompt using the `ChatPromptTemplate`:"
   ]
  },
  {
   "cell_type": "code",
   "execution_count": 18,
   "id": "fb2cfa58",
   "metadata": {},
   "outputs": [],
   "source": [
    "# prompt template 1: create an article title\n",
    "prompt = ChatPromptTemplate.from_messages([system_prompt, user_prompt])"
   ]
  },
  {
   "cell_type": "markdown",
   "id": "6de5ac1e",
   "metadata": {},
   "source": [
    "# Main Pipeline"
   ]
  },
  {
   "cell_type": "markdown",
   "id": "6b994818",
   "metadata": {},
   "source": [
    "Now chain the `prompt` template and the `llm` object defined earlier to create an LLM chain for **prompt formatting > llm generation > get output**.\n",
    "\n",
    "Let's use __LCEL__ to construct the chain: define inputs with `{\"metric_id\": lambda x: x[\"metric_id\"], ...}` and use the pipe operator (`|`) to feed the output from its left into the input to its right."
   ]
  },
  {
   "cell_type": "code",
   "execution_count": 19,
   "id": "259f2163",
   "metadata": {},
   "outputs": [],
   "source": [
    "# This chain will output (for the given metric) the new company's score and provides 3 reasons\n",
    "chain = (\n",
    "    {\n",
    "        \"metric_id\": lambda x: x[\"metric_id\"],\n",
    "        \"metric_name\": lambda x: x[\"metric_name\"],\n",
    "        \"metric_description\": lambda x: x[\"metric_description\"],\n",
    "        \"new_company\": lambda x: x[\"new_company\"],\n",
    "        \"Company_1\": lambda x: x[\"Company_1\"],\n",
    "        \"Score_1\": lambda x: x[\"Score_1\"],\n",
    "        \"Reason1_1\": lambda x: x[\"Reason1_1\"],\n",
    "        \"Reason2_1\": lambda x: x[\"Reason2_1\"],\n",
    "        \"Reason3_1\": lambda x: x[\"Reason3_1\"],\n",
    "        \"Company_2\": lambda x: x[\"Company_2\"],\n",
    "        \"Score_2\": lambda x: x[\"Score_2\"],\n",
    "        \"Reason1_2\": lambda x: x[\"Reason1_2\"],\n",
    "        \"Reason2_2\": lambda x: x[\"Reason2_2\"],\n",
    "        \"Reason3_2\": lambda x: x[\"Reason3_2\"],\n",
    "        \"Company_3\": lambda x: x[\"Company_3\"],\n",
    "        \"Score_3\": lambda x: x[\"Score_3\"],\n",
    "        \"Reason1_3\": lambda x: x[\"Reason1_3\"],\n",
    "        \"Reason2_3\": lambda x: x[\"Reason2_3\"],\n",
    "        \"Reason3_3\": lambda x: x[\"Reason3_3\"],\n",
    "        \"new_company_report_chunks_summary\": lambda x: x[\"new_company_report_chunks_summary\"]\n",
    "    }\n",
    "    | prompt\n",
    "    | llm_structured\n",
    "    | {\n",
    "        \"Company\": lambda llm_output: llm_output.Company,\n",
    "        \"MetricID\": lambda llm_output: llm_output.MetricID,\n",
    "        \"Score\": lambda llm_output: llm_output.Score,\n",
    "        \"Reason1\": lambda llm_output: llm_output.Reason1,\n",
    "        \"Reason2\": lambda llm_output: llm_output.Reason2,\n",
    "        \"Reason3\": lambda llm_output: llm_output.Reason3\n",
    "        }\n",
    ")"
   ]
  },
  {
   "cell_type": "code",
   "execution_count": 20,
   "id": "24afb0b5",
   "metadata": {},
   "outputs": [
    {
     "data": {
      "text/html": [
       "<div>\n",
       "<style scoped>\n",
       "    .dataframe tbody tr th:only-of-type {\n",
       "        vertical-align: middle;\n",
       "    }\n",
       "\n",
       "    .dataframe tbody tr th {\n",
       "        vertical-align: top;\n",
       "    }\n",
       "\n",
       "    .dataframe thead th {\n",
       "        text-align: right;\n",
       "    }\n",
       "</style>\n",
       "<table border=\"1\" class=\"dataframe\">\n",
       "  <thead>\n",
       "    <tr style=\"text-align: right;\">\n",
       "      <th></th>\n",
       "      <th>Company</th>\n",
       "      <th>MetricID</th>\n",
       "      <th>Score</th>\n",
       "      <th>Reason1</th>\n",
       "      <th>Reason2</th>\n",
       "      <th>Reason3</th>\n",
       "    </tr>\n",
       "  </thead>\n",
       "  <tbody>\n",
       "  </tbody>\n",
       "</table>\n",
       "</div>"
      ],
      "text/plain": [
       "Empty DataFrame\n",
       "Columns: [Company, MetricID, Score, Reason1, Reason2, Reason3]\n",
       "Index: []"
      ]
     },
     "execution_count": 20,
     "metadata": {},
     "output_type": "execute_result"
    }
   ],
   "source": [
    "new_company = \"IBM\"  # FIXME\n",
    "\n",
    "new_company_scores_df = pd.DataFrame(columns=train_examples.columns)\n",
    "new_company_scores_df"
   ]
  },
  {
   "cell_type": "code",
   "execution_count": 21,
   "id": "3dadb9ef",
   "metadata": {},
   "outputs": [
    {
     "data": {
      "text/html": [
       "<div>\n",
       "<style scoped>\n",
       "    .dataframe tbody tr th:only-of-type {\n",
       "        vertical-align: middle;\n",
       "    }\n",
       "\n",
       "    .dataframe tbody tr th {\n",
       "        vertical-align: top;\n",
       "    }\n",
       "\n",
       "    .dataframe thead th {\n",
       "        text-align: right;\n",
       "    }\n",
       "</style>\n",
       "<table border=\"1\" class=\"dataframe\">\n",
       "  <thead>\n",
       "    <tr style=\"text-align: right;\">\n",
       "      <th></th>\n",
       "      <th>Company</th>\n",
       "      <th>MetricID</th>\n",
       "      <th>Score</th>\n",
       "      <th>Reason1</th>\n",
       "      <th>Reason2</th>\n",
       "      <th>Reason3</th>\n",
       "    </tr>\n",
       "  </thead>\n",
       "  <tbody>\n",
       "    <tr>\n",
       "      <th>0</th>\n",
       "      <td>IBM</td>\n",
       "      <td>1</td>\n",
       "      <td>2</td>\n",
       "      <td>IBM is committed to achieving net-zero GHG Sco...</td>\n",
       "      <td>The company lays out a transparent emissions t...</td>\n",
       "      <td>As of 2025, IBM’s Scope 1 emissions remain at ...</td>\n",
       "    </tr>\n",
       "    <tr>\n",
       "      <th>1</th>\n",
       "      <td>IBM</td>\n",
       "      <td>2</td>\n",
       "      <td>3</td>\n",
       "      <td>IBM is runnig 100m in 14.8s.</td>\n",
       "      <td>IBM can do 40 pushups.</td>\n",
       "      <td>IBM can do 60 jumps.</td>\n",
       "    </tr>\n",
       "    <tr>\n",
       "      <th>2</th>\n",
       "      <td>IBM</td>\n",
       "      <td>3</td>\n",
       "      <td>1</td>\n",
       "      <td>Math is just a rough guideline, like ‘ballpark...</td>\n",
       "      <td>elite in physical culture, lax in intellectual...</td>\n",
       "      <td>Some of the educational narratives now veer in...</td>\n",
       "    </tr>\n",
       "  </tbody>\n",
       "</table>\n",
       "</div>"
      ],
      "text/plain": [
       "  Company MetricID Score                                            Reason1  \\\n",
       "0     IBM        1     2  IBM is committed to achieving net-zero GHG Sco...   \n",
       "1     IBM        2     3                       IBM is runnig 100m in 14.8s.   \n",
       "2     IBM        3     1  Math is just a rough guideline, like ‘ballpark...   \n",
       "\n",
       "                                             Reason2  \\\n",
       "0  The company lays out a transparent emissions t...   \n",
       "1                             IBM can do 40 pushups.   \n",
       "2  elite in physical culture, lax in intellectual...   \n",
       "\n",
       "                                             Reason3  \n",
       "0  As of 2025, IBM’s Scope 1 emissions remain at ...  \n",
       "1                               IBM can do 60 jumps.  \n",
       "2  Some of the educational narratives now veer in...  "
      ]
     },
     "execution_count": 21,
     "metadata": {},
     "output_type": "execute_result"
    }
   ],
   "source": [
    "for i in range(len(metrics)):\n",
    "    metric_id = metrics.iloc[i][\"MetricID\"]\n",
    "    # print(f\"MetricID: {metric_id}\")\n",
    "\n",
    "    query = langchain_helper.prep_simularity_search_query(metrics, metric_id)\n",
    "    # print(query)\n",
    "\n",
    "    new_company_report_chunks_summary = langchain_helper.simularity_search(query, db_client, chunks_number=3)  # Retriev report data\n",
    "    # print(f\"new_company_report_chunks_summary: {new_company_report_chunks_summary}\")\n",
    "\n",
    "    prompt_inputs = langchain_helper.prep_prompt_inputs(new_company, metrics, metric_id, train_examples, new_company_report_chunks_summary)  # RAG\n",
    "    # print(output)\n",
    "    output = chain.invoke(prompt_inputs)\n",
    "    new_company_scores_df = pd.concat([new_company_scores_df, pd.DataFrame(output, index=[0])], ignore_index=True)\n",
    "\n",
    "# save new_company_scores_df to new_company_scores.csv\n",
    "new_company_scores_df.to_csv(\"data/new_company_scores.csv\", index=False)\n",
    "new_company_scores_df"
   ]
  },
  {
   "cell_type": "markdown",
   "id": "9ad28f18",
   "metadata": {},
   "source": [
    "## <span style=\"color:red\"> __NEXT__ </span>"
   ]
  },
  {
   "cell_type": "markdown",
   "id": "d51b35d6",
   "metadata": {},
   "source": []
  }
 ],
 "metadata": {
  "kernelspec": {
   "display_name": "portfoliogenai",
   "language": "python",
   "name": "python3"
  },
  "language_info": {
   "codemirror_mode": {
    "name": "ipython",
    "version": 3
   },
   "file_extension": ".py",
   "mimetype": "text/x-python",
   "name": "python",
   "nbconvert_exporter": "python",
   "pygments_lexer": "ipython3",
   "version": "3.13.5"
  }
 },
 "nbformat": 4,
 "nbformat_minor": 5
}
